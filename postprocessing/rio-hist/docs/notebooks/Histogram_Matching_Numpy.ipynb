{
 "cells": [
  {
   "cell_type": "markdown",
   "metadata": {},
   "source": [
    "# Histogram matching algoritm with numpy\n",
    "\n",
    "Pure numpy algorithm to adjust values of a **source** ndarray such that it's histogram \n",
    "matches that of a **reference** ndarray. The source and reference arrays can be any dimension\n",
    "and may differ in shape. They should have the same dtype however."
   ]
  },
  {
   "cell_type": "code",
   "execution_count": 1,
   "metadata": {
    "collapsed": true
   },
   "outputs": [],
   "source": [
    "%matplotlib inline\n",
    "import numpy as np\n",
    "import matplotlib.pyplot as plt"
   ]
  },
  {
   "cell_type": "code",
   "execution_count": 2,
   "metadata": {
    "collapsed": true
   },
   "outputs": [],
   "source": [
    "source2D = np.array([[10, 20, 40],\n",
    "                   [20, 10, 60],\n",
    "                   [40, 90, 10]])\n",
    "\n",
    "reference2D = np.array([[ 25, 35, 63],\n",
    "                      [63, 25, 90],\n",
    "                      [63, 99, 10]])"
   ]
  },
  {
   "cell_type": "markdown",
   "metadata": {},
   "source": [
    "Save the original shape for later to reconstruct"
   ]
  },
  {
   "cell_type": "code",
   "execution_count": 3,
   "metadata": {
    "collapsed": false
   },
   "outputs": [
    {
     "data": {
      "text/plain": [
       "(3, 3)"
      ]
     },
     "execution_count": 3,
     "metadata": {},
     "output_type": "execute_result"
    }
   ],
   "source": [
    "orig_shape = source2D.shape\n",
    "orig_shape"
   ]
  },
  {
   "cell_type": "markdown",
   "metadata": {},
   "source": [
    "For the rest of the analysis, unravel into a 1D array"
   ]
  },
  {
   "cell_type": "code",
   "execution_count": 4,
   "metadata": {
    "collapsed": false
   },
   "outputs": [
    {
     "name": "stdout",
     "output_type": "stream",
     "text": [
      "[10 20 40 20 10 60 40 90 10]\n",
      "[25 35 63 63 25 90 63 99 10]\n"
     ]
    }
   ],
   "source": [
    "source = source2D.ravel()\n",
    "print(source)\n",
    "reference = reference2D.ravel()\n",
    "print(reference)"
   ]
  },
  {
   "cell_type": "markdown",
   "metadata": {},
   "source": [
    "Get the set of unique pixel values and their corresponding indices and counts"
   ]
  },
  {
   "cell_type": "code",
   "execution_count": 5,
   "metadata": {
    "collapsed": false
   },
   "outputs": [
    {
     "name": "stdout",
     "output_type": "stream",
     "text": [
      "[10 20 40 60 90] [0 1 2 1 0 3 2 4 0] [3 2 2 1 1]\n"
     ]
    }
   ],
   "source": [
    "s_values, s_idx, s_counts = np.unique(\n",
    "    source, return_inverse=True, return_counts=True)\n",
    "\n",
    "print(s_values, s_idx, s_counts)"
   ]
  },
  {
   "cell_type": "markdown",
   "metadata": {},
   "source": [
    "Let's look at what `s_values` and `s_counts` do. It's simply all unique values in the source and their corresponding counts. So you can see we have three 10s, two 20s, etc. "
   ]
  },
  {
   "cell_type": "code",
   "execution_count": 6,
   "metadata": {
    "collapsed": false
   },
   "outputs": [
    {
     "name": "stdout",
     "output_type": "stream",
     "text": [
      "((10, 3), (20, 2), (40, 2), (60, 1), (90, 1))\n"
     ]
    }
   ],
   "source": [
    "print(tuple(zip(s_values, s_counts)))"
   ]
  },
  {
   "cell_type": "markdown",
   "metadata": {},
   "source": [
    "The `s_idx` contains indexes to look up values from `s_values` in order to reconstruct the original array."
   ]
  },
  {
   "cell_type": "code",
   "execution_count": 7,
   "metadata": {
    "collapsed": false
   },
   "outputs": [
    {
     "data": {
      "text/plain": [
       "array([[10, 20, 40],\n",
       "       [20, 10, 60],\n",
       "       [40, 90, 10]])"
      ]
     },
     "execution_count": 7,
     "metadata": {},
     "output_type": "execute_result"
    }
   ],
   "source": [
    "# the original source array\n",
    "np.array([s_values[idx] for idx in s_idx]).reshape(orig_shape)"
   ]
  },
  {
   "cell_type": "markdown",
   "metadata": {},
   "source": [
    "We can do the same with the reference (but we don't need the `r_idx` for this)"
   ]
  },
  {
   "cell_type": "code",
   "execution_count": 8,
   "metadata": {
    "collapsed": false
   },
   "outputs": [
    {
     "name": "stdout",
     "output_type": "stream",
     "text": [
      "[10 25 35 63 90 99] [1 2 1 3 1 1]\n"
     ]
    }
   ],
   "source": [
    "r_values, r_counts = np.unique(reference, return_counts=True)\n",
    "print(r_values, r_counts)"
   ]
  },
  {
   "cell_type": "markdown",
   "metadata": {},
   "source": [
    "Now we need to calculate the empirical cumulative distribuition, scaled 0 to 1. Each `quantiles` tells us, for each unique `value`, what proportion of the data fall at or below that value."
   ]
  },
  {
   "cell_type": "code",
   "execution_count": 9,
   "metadata": {
    "collapsed": false
   },
   "outputs": [
    {
     "data": {
      "text/plain": [
       "((10, 0.33333333333333331),\n",
       " (20, 0.55555555555555558),\n",
       " (40, 0.77777777777777779),\n",
       " (60, 0.88888888888888884),\n",
       " (90, 1.0))"
      ]
     },
     "execution_count": 9,
     "metadata": {},
     "output_type": "execute_result"
    }
   ],
   "source": [
    "s_quantiles = np.cumsum(s_counts).astype(np.float64) / source.size\n",
    "tuple(zip(s_values, s_quantiles))"
   ]
  },
  {
   "cell_type": "code",
   "execution_count": 10,
   "metadata": {
    "collapsed": false
   },
   "outputs": [
    {
     "data": {
      "text/plain": [
       "((10, 0.1111111111111111),\n",
       " (25, 0.33333333333333331),\n",
       " (35, 0.44444444444444442),\n",
       " (63, 0.77777777777777779),\n",
       " (90, 0.88888888888888884),\n",
       " (99, 1.0))"
      ]
     },
     "execution_count": 10,
     "metadata": {},
     "output_type": "execute_result"
    }
   ],
   "source": [
    "r_quantiles = np.cumsum(r_counts).astype(np.float64) / reference.size\n",
    "tuple(zip(r_values, r_quantiles))"
   ]
  },
  {
   "cell_type": "code",
   "execution_count": 11,
   "metadata": {
    "collapsed": false
   },
   "outputs": [
    {
     "data": {
      "text/plain": [
       "<matplotlib.legend.Legend at 0x1093625f8>"
      ]
     },
     "execution_count": 11,
     "metadata": {},
     "output_type": "execute_result"
    },
    {
     "data": {
      "image/png": "[encoded data removed]",
      "text/plain": [
       "<matplotlib.figure.Figure at 0x1092ff2b0>"
      ]
     },
     "metadata": {},
     "output_type": "display_data"
    }
   ],
   "source": [
    "plt.plot(s_values, s_quantiles, label=\"Source\")\n",
    "plt.plot(r_values, r_quantiles, label=\"Reference\")\n",
    "plt.legend(loc=5)"
   ]
  },
  {
   "cell_type": "markdown",
   "metadata": {},
   "source": [
    "To put it simplistically, we need to adjust `source` so that the blue line matches the green line as closely as possible.\n",
    "\n",
    "To do this, we can linearly interpolate on the arrays. This is the **core concept** of the algorithm. The value of the source CDF at each unique input is mapped to the reference CDF (It need not be an exact equality as we use linear interpolation). The reference cdf value is then used to look up the corresponding reference value (interpolated between values if the match isn't exact).\n",
    "\n",
    "The interpolated values have the same shape as `s_values` - the result is the new set of source values to replace the original. "
   ]
  },
  {
   "cell_type": "code",
   "execution_count": 12,
   "metadata": {
    "collapsed": false
   },
   "outputs": [
    {
     "name": "stdout",
     "output_type": "stream",
     "text": [
      "[ 0.33333333  0.55555556  0.77777778  0.88888889  1.        ]\n",
      "[ 0.11111111  0.33333333  0.44444444  0.77777778  0.88888889  1.        ]\n",
      "[10 25 35 63 90 99]\n"
     ]
    },
    {
     "data": {
      "text/plain": [
       "array([ 25.        ,  44.33333333,  63.        ,  90.        ,  99.        ])"
      ]
     },
     "execution_count": 12,
     "metadata": {},
     "output_type": "execute_result"
    }
   ],
   "source": [
    "print(s_quantiles)\n",
    "print(r_quantiles)\n",
    "print(r_values)\n",
    "\n",
    "interp_r_values = np.interp(s_quantiles, r_quantiles, r_values)\n",
    "interp_r_values"
   ]
  },
  {
   "cell_type": "markdown",
   "metadata": {},
   "source": [
    "In a way you could think of it as a lookup table mapping from source to target values, independent of it's position in the original array. e.g. `10` becomes `25.0`."
   ]
  },
  {
   "cell_type": "code",
   "execution_count": 13,
   "metadata": {
    "collapsed": false
   },
   "outputs": [
    {
     "data": {
      "text/plain": [
       "{10: 25.0, 20: 44.333333333333336, 40: 63.0, 60: 90.0, 90: 99.0}"
      ]
     },
     "execution_count": 13,
     "metadata": {},
     "output_type": "execute_result"
    }
   ],
   "source": [
    "dict(zip(s_values, interp_r_values))"
   ]
  },
  {
   "cell_type": "markdown",
   "metadata": {},
   "source": [
    "Now we can take our `s_idx` to recreate an array of the same size as the source but with new values"
   ]
  },
  {
   "cell_type": "code",
   "execution_count": 14,
   "metadata": {
    "collapsed": false
   },
   "outputs": [
    {
     "data": {
      "text/plain": [
       "array([[ 25.        ,  44.33333333,  63.        ],\n",
       "       [ 44.33333333,  25.        ,  90.        ],\n",
       "       [ 63.        ,  99.        ,  25.        ]])"
      ]
     },
     "execution_count": 14,
     "metadata": {},
     "output_type": "execute_result"
    }
   ],
   "source": [
    "target = interp_r_values[s_idx].reshape(orig_shape)\n",
    "target"
   ]
  },
  {
   "cell_type": "markdown",
   "metadata": {},
   "source": [
    "`target` has the same shape and *relative* spatial pattern as `source` but \n",
    "with values adjusted to match the histogram of `reference`. Let's look at them side-by-side."
   ]
  },
  {
   "cell_type": "code",
   "execution_count": 15,
   "metadata": {
    "collapsed": false
   },
   "outputs": [
    {
     "name": "stdout",
     "output_type": "stream",
     "text": [
      "Source\n",
      " [[10 20 40]\n",
      " [20 10 60]\n",
      " [40 90 10]]\n",
      "Target\n",
      " [[25 44 63]\n",
      " [44 25 90]\n",
      " [63 99 25]]\n"
     ]
    }
   ],
   "source": [
    "print(\"Source\\n\", source2D.astype('uint8'))\n",
    "print(\"Target\\n\", target.astype('uint8'))\n"
   ]
  },
  {
   "cell_type": "markdown",
   "metadata": {},
   "source": [
    "We can also visually assess the quality of the histogram match"
   ]
  },
  {
   "cell_type": "code",
   "execution_count": 16,
   "metadata": {
    "collapsed": false
   },
   "outputs": [
    {
     "data": {
      "text/plain": [
       "<matplotlib.legend.Legend at 0x1093f0198>"
      ]
     },
     "execution_count": 16,
     "metadata": {},
     "output_type": "execute_result"
    },
    {
     "data": {
      "image/png": "[encoded data removed]",
      "text/plain": [
       "<matplotlib.figure.Figure at 0x109371630>"
      ]
     },
     "metadata": {},
     "output_type": "display_data"
    }
   ],
   "source": [
    "t_values, t_counts = np.unique(target, return_counts=True)\n",
    "t_quantiles = np.cumsum(t_counts).astype(np.float64) / target.size\n",
    "\n",
    "plt.plot(s_values, s_quantiles, label=\"Source\")\n",
    "plt.plot(r_values, r_quantiles, label=\"Reference\")\n",
    "plt.plot(t_values, t_quantiles, '--r', lw=2, label=\"Target\")\n",
    "plt.legend(loc=5)\n"
   ]
  }
 ],
 "metadata": {
  "kernelspec": {
   "display_name": "Python 3",
   "language": "python",
   "name": "python3"
  },
  "language_info": {
   "codemirror_mode": {
    "name": "ipython",
    "version": 3
   },
   "file_extension": ".py",
   "mimetype": "text/x-python",
   "name": "python",
   "nbconvert_exporter": "python",
   "pygments_lexer": "ipython3",
   "version": "3.4.4"
  }
 },
 "nbformat": 4,
 "nbformat_minor": 0
}
